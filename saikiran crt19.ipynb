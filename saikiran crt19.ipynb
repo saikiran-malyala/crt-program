{
 "cells": [
  {
   "cell_type": "markdown",
   "metadata": {},
   "source": [
    "# markdown\n",
    "## markdown\n",
    "### markdown\n",
    "#### markdown\n",
    "##### markdown\n",
    "###### markdown\n"
   ]
  },
  {
   "cell_type": "markdown",
   "metadata": {},
   "source": [
    "* *saikiran*"
   ]
  },
  {
   "cell_type": "markdown",
   "metadata": {},
   "source": [
    "![image](https://hips.hearstapps.com/hmg-prod.s3.amazonaws.com/images/rabbit-breeds-american-white-1553635287.jpg?crop=0.976xw:0.651xh;0.0242xw,0.291xh&resize=480:*)"
   ]
  },
  {
   "cell_type": "markdown",
   "metadata": {},
   "source": [
    "![image](data:image/jpeg;base64,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)"
   ]
  },
  {
   "cell_type": "markdown",
   "metadata": {},
   "source": [
    "* [crt]\n",
    "  [crt]:https://sites.google.com/view/crt-gitam-batch-1/home"
   ]
  },
  {
   "cell_type": "code",
   "execution_count": 3,
   "metadata": {},
   "outputs": [
    {
     "name": "stdout",
     "output_type": "stream",
     "text": [
      "hello world\n",
      "hi\n"
     ]
    }
   ],
   "source": [
    "print(\"hello world\")\n",
    "print(\"hi\")"
   ]
  },
  {
   "cell_type": "code",
   "execution_count": 4,
   "metadata": {},
   "outputs": [
    {
     "name": "stdout",
     "output_type": "stream",
     "text": [
      "1 2 3\n"
     ]
    }
   ],
   "source": [
    "a=10 # single variable assignment\n",
    "a=b=c=1\n",
    "a,b,c=1,2,3\n",
    "print(a,b,c)"
   ]
  },
  {
   "cell_type": "code",
   "execution_count": 5,
   "metadata": {},
   "outputs": [
    {
     "data": {
      "text/plain": [
       "str"
      ]
     },
     "execution_count": 5,
     "metadata": {},
     "output_type": "execute_result"
    }
   ],
   "source": [
    "a=\"python\"\n",
    "type(a)"
   ]
  },
  {
   "cell_type": "code",
   "execution_count": 7,
   "metadata": {},
   "outputs": [
    {
     "data": {
      "text/plain": [
       "float"
      ]
     },
     "execution_count": 7,
     "metadata": {},
     "output_type": "execute_result"
    }
   ],
   "source": [
    "a=10.5\n",
    "type(a)"
   ]
  },
  {
   "cell_type": "code",
   "execution_count": 8,
   "metadata": {},
   "outputs": [
    {
     "name": "stdout",
     "output_type": "stream",
     "text": [
      "<class 'int'>\n"
     ]
    },
    {
     "data": {
      "text/plain": [
       "float"
      ]
     },
     "execution_count": 8,
     "metadata": {},
     "output_type": "execute_result"
    }
   ],
   "source": [
    "a=10\n",
    "b=10.5\n",
    "print(type(a))\n",
    "type(a)\n",
    "type(b)"
   ]
  },
  {
   "cell_type": "code",
   "execution_count": 10,
   "metadata": {},
   "outputs": [
    {
     "name": "stdout",
     "output_type": "stream",
     "text": [
      "my name is saikiran my age is 20\n"
     ]
    }
   ],
   "source": [
    "name=\"saikiran\"\n",
    "age=\"20\"\n",
    "print(\"my name is\",name,\"my age is\",age)\n"
   ]
  },
  {
   "cell_type": "code",
   "execution_count": 12,
   "metadata": {},
   "outputs": [
    {
     "name": "stdout",
     "output_type": "stream",
     "text": [
      "enter a string2344\n"
     ]
    },
    {
     "data": {
      "text/plain": [
       "int"
      ]
     },
     "execution_count": 12,
     "metadata": {},
     "output_type": "execute_result"
    }
   ],
   "source": [
    "input(\"enter a string\")\n",
    "type(a)"
   ]
  },
  {
   "cell_type": "code",
   "execution_count": 13,
   "metadata": {},
   "outputs": [
    {
     "name": "stdout",
     "output_type": "stream",
     "text": [
      "entera number99\n"
     ]
    },
    {
     "data": {
      "text/plain": [
       "int"
      ]
     },
     "execution_count": 13,
     "metadata": {},
     "output_type": "execute_result"
    }
   ],
   "source": [
    "c=int(input(\"entera number\"))\n",
    "type(c)"
   ]
  },
  {
   "cell_type": "code",
   "execution_count": 14,
   "metadata": {},
   "outputs": [
    {
     "name": "stdout",
     "output_type": "stream",
     "text": [
      "entera number77\n"
     ]
    },
    {
     "data": {
      "text/plain": [
       "float"
      ]
     },
     "execution_count": 14,
     "metadata": {},
     "output_type": "execute_result"
    }
   ],
   "source": [
    "d=float(input(\"entera number\"))\n",
    "type(d)"
   ]
  },
  {
   "cell_type": "code",
   "execution_count": 15,
   "metadata": {},
   "outputs": [
    {
     "name": "stdout",
     "output_type": "stream",
     "text": [
      "enter a number23\n",
      "enter a number62\n",
      "85\n"
     ]
    }
   ],
   "source": [
    "a=int(input(\"enter a number\"))\n",
    "c=int(input(\"enter a number\"))\n",
    "d=a+c\n",
    "print(d);\n"
   ]
  },
  {
   "cell_type": "code",
   "execution_count": 16,
   "metadata": {},
   "outputs": [
    {
     "name": "stdout",
     "output_type": "stream",
     "text": [
      "10\n"
     ]
    },
    {
     "data": {
      "text/plain": [
       "int"
      ]
     },
     "execution_count": 16,
     "metadata": {},
     "output_type": "execute_result"
    }
   ],
   "source": [
    "x=10\n",
    "print(x)\n",
    "type(x)"
   ]
  },
  {
   "cell_type": "code",
   "execution_count": 17,
   "metadata": {},
   "outputs": [
    {
     "name": "stdout",
     "output_type": "stream",
     "text": [
      "1.2\n"
     ]
    },
    {
     "data": {
      "text/plain": [
       "float"
      ]
     },
     "execution_count": 17,
     "metadata": {},
     "output_type": "execute_result"
    }
   ],
   "source": [
    "y=1.2\n",
    "print(y)\n",
    "type(y)"
   ]
  },
  {
   "cell_type": "code",
   "execution_count": 18,
   "metadata": {},
   "outputs": [
    {
     "name": "stdout",
     "output_type": "stream",
     "text": [
      "(1+3j)\n"
     ]
    },
    {
     "data": {
      "text/plain": [
       "complex"
      ]
     },
     "execution_count": 18,
     "metadata": {},
     "output_type": "execute_result"
    }
   ],
   "source": [
    "a=1+3j\n",
    "print(a)\n",
    "type(a)"
   ]
  },
  {
   "cell_type": "code",
   "execution_count": 19,
   "metadata": {},
   "outputs": [
    {
     "data": {
      "text/plain": [
       "(2+1j)"
      ]
     },
     "execution_count": 19,
     "metadata": {},
     "output_type": "execute_result"
    }
   ],
   "source": [
    "y=complex(2,1)\n",
    "y"
   ]
  },
  {
   "cell_type": "code",
   "execution_count": 21,
   "metadata": {},
   "outputs": [
    {
     "data": {
      "text/plain": [
       "True"
      ]
     },
     "execution_count": 21,
     "metadata": {},
     "output_type": "execute_result"
    }
   ],
   "source": [
    "a=5\n",
    "b=6\n",
    "a<b\n"
   ]
  },
  {
   "cell_type": "code",
   "execution_count": 23,
   "metadata": {},
   "outputs": [
    {
     "data": {
      "text/plain": [
       "2.0"
      ]
     },
     "execution_count": 23,
     "metadata": {},
     "output_type": "execute_result"
    }
   ],
   "source": [
    "4/2"
   ]
  },
  {
   "cell_type": "code",
   "execution_count": 24,
   "metadata": {},
   "outputs": [
    {
     "data": {
      "text/plain": [
       "8"
      ]
     },
     "execution_count": 24,
     "metadata": {},
     "output_type": "execute_result"
    }
   ],
   "source": [
    "4*2\n"
   ]
  },
  {
   "cell_type": "code",
   "execution_count": 25,
   "metadata": {},
   "outputs": [
    {
     "data": {
      "text/plain": [
       "0"
      ]
     },
     "execution_count": 25,
     "metadata": {},
     "output_type": "execute_result"
    }
   ],
   "source": [
    "4%2"
   ]
  },
  {
   "cell_type": "code",
   "execution_count": 26,
   "metadata": {},
   "outputs": [
    {
     "data": {
      "text/plain": [
       "16"
      ]
     },
     "execution_count": 26,
     "metadata": {},
     "output_type": "execute_result"
    }
   ],
   "source": [
    "4**2\n"
   ]
  },
  {
   "cell_type": "code",
   "execution_count": 28,
   "metadata": {},
   "outputs": [
    {
     "name": "stdout",
     "output_type": "stream",
     "text": [
      "addition is 30\n",
      "subtartcion is -10\n",
      "multiplication is 200\n"
     ]
    }
   ],
   "source": [
    "a=10\n",
    "b=20\n",
    "print(\"addition is\",a+b)\n",
    "print(\"subtartcion is\",a-b)\n",
    "print(\"multiplication is\",a*b)"
   ]
  },
  {
   "cell_type": "code",
   "execution_count": 29,
   "metadata": {},
   "outputs": [
    {
     "data": {
      "text/plain": [
       "-2.4"
      ]
     },
     "execution_count": 29,
     "metadata": {},
     "output_type": "execute_result"
    }
   ],
   "source": [
    "-12/5"
   ]
  },
  {
   "cell_type": "code",
   "execution_count": 30,
   "metadata": {},
   "outputs": [
    {
     "data": {
      "text/plain": [
       "-3"
      ]
     },
     "execution_count": 30,
     "metadata": {},
     "output_type": "execute_result"
    }
   ],
   "source": [
    "-12//5\n"
   ]
  },
  {
   "cell_type": "code",
   "execution_count": 31,
   "metadata": {},
   "outputs": [
    {
     "name": "stdout",
     "output_type": "stream",
     "text": [
      "False\n",
      "True\n",
      "False\n"
     ]
    }
   ],
   "source": [
    "x=2\n",
    "y=2\n",
    "print(x>=5 and x<10)\n",
    "print(x>=5 or x<=10)\n",
    "print(not(x))\n"
   ]
  },
  {
   "cell_type": "code",
   "execution_count": 33,
   "metadata": {},
   "outputs": [
    {
     "name": "stdout",
     "output_type": "stream",
     "text": [
      "negative\n"
     ]
    }
   ],
   "source": [
    "a=-40\n",
    "if a>0:\n",
    "    print(\"postive\")\n",
    "else:\n",
    "    print(\"negative\")"
   ]
  },
  {
   "cell_type": "code",
   "execution_count": 36,
   "metadata": {},
   "outputs": [
    {
     "name": "stdout",
     "output_type": "stream",
     "text": [
      "zero\n"
     ]
    }
   ],
   "source": [
    "a=0\n",
    "if a>0:\n",
    "    print(\"postive\")\n",
    "elif a<0:\n",
    "    print(\"negative\")\n",
    "else:\n",
    "    print(\"zero\")"
   ]
  },
  {
   "cell_type": "code",
   "execution_count": null,
   "metadata": {},
   "outputs": [],
   "source": []
  }
 ],
 "metadata": {
  "kernelspec": {
   "display_name": "Python 3",
   "language": "python",
   "name": "python3"
  },
  "language_info": {
   "codemirror_mode": {
    "name": "ipython",
    "version": 3
   },
   "file_extension": ".py",
   "mimetype": "text/x-python",
   "name": "python",
   "nbconvert_exporter": "python",
   "pygments_lexer": "ipython3",
   "version": "3.7.3"
  }
 },
 "nbformat": 4,
 "nbformat_minor": 2
}
